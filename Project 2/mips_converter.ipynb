{
 "cells": [
  {
   "cell_type": "code",
   "execution_count": 3,
   "metadata": {},
   "outputs": [],
   "source": [
    "reg = {}\n",
    "for i in range(32):\n",
    "    if i == 0:\n",
    "        reg[i] = 'zero'\n",
    "    elif i == 1:\n",
    "        reg[i] = 'at'\n",
    "    elif i == 2 or i==3:\n",
    "        reg[i] = 'v' + str(i-2)\n",
    "    elif i>=4 and i<= 7:\n",
    "        reg[i] = 'a' + str(i-4)\n",
    "    elif i >=8 and i<=15:\n",
    "        reg[i] = 't' + str(i-8)\n",
    "    elif i == 24 or i==25:\n",
    "        reg[i] = 't' + str(i-24+8)\n",
    "    elif i >=16 and i <=23:\n",
    "        reg[i] = 's' + str(i-16)\n",
    "    elif i==26 or i == 27:\n",
    "        reg[i] = 'k' + str(i-26)\n",
    "    elif i==28:\n",
    "        reg[i] = 'gp'\n",
    "    elif i==29:\n",
    "        reg[i] = 'sp'\n",
    "    elif i==30:\n",
    "        reg[i] = 'fp'\n",
    "    elif i==31:\n",
    "        reg[i] = 'ra'"
   ]
  },
  {
   "cell_type": "code",
   "execution_count": 119,
   "metadata": {},
   "outputs": [],
   "source": [
    "reg_a = {}\n",
    "for i in reg.keys():\n",
    "    reg_a[reg[i]] = i"
   ]
  },
  {
   "cell_type": "code",
   "execution_count": 118,
   "metadata": {},
   "outputs": [],
   "source": [
    "def R_convert(instr):\n",
    "    op = instr[0]\n",
    "    a = instr[1]\n",
    "    b = instr[2]\n",
    "    c = instr[3]\n",
    "    \n",
    "    funct = {\n",
    "    'add' : 21,\n",
    "    'sub' : 22,\n",
    "    'and' : 23,\n",
    "    'or' : 24,\n",
    "    'srl': 25,\n",
    "    'sll': 26\n",
    "    }\n",
    "    \n",
    "    out = '{'\n",
    "    # op    \n",
    "    if op in ['add','sub','and','or','srl','sll']:\n",
    "        out += \"6'd54,\"\n",
    "    \n",
    "    # rs\n",
    "    if op in ['add','sub','and','or']:\n",
    "        out += \"5'd{},\".format(reg_a[b])\n",
    "    elif op in ['srl','sll']:\n",
    "        out += \"5'd0,\"\n",
    "    \n",
    "    #rt\n",
    "    if op in ['add','sub','and','or']:\n",
    "        out += \"5'd{},\".format(reg_a[c])\n",
    "    elif op in ['srl','sll']:\n",
    "        out += \"5'd{},\".format(reg_a[b])\n",
    "    \n",
    "    #rd\n",
    "    if op in ['add','sub','and','or','srl','sll']:\n",
    "        out += \"5'd{},\".format(reg_a[a])\n",
    "    \n",
    "    #shamt\n",
    "    if op in ['add','sub','and','or']:\n",
    "        out += \"5'd0,\"\n",
    "    elif op in ['srl','sll']:\n",
    "        out += \"5'd{},\".format(c)\n",
    "    \n",
    "    #funct\n",
    "    if op in ['add','sub','and','or','srl','sll']:\n",
    "        out += \"6'd{}\".format(funct[op])\n",
    "    \n",
    "    out += '}'\n",
    "    return out"
   ]
  },
  {
   "cell_type": "code",
   "execution_count": 120,
   "metadata": {},
   "outputs": [],
   "source": [
    "r_instr = [\n",
    "    'add t0 t1 t2',\n",
    "    'sub t1 t1 t2',\n",
    "    'and t3 t5 t3',\n",
    "    'or t5 t3 t5',\n",
    "    'srl t3 t4 2',\n",
    "    'sll t5 t7 5'\n",
    "]"
   ]
  },
  {
   "cell_type": "code",
   "execution_count": 122,
   "metadata": {},
   "outputs": [],
   "source": [
    "def R_instrs(r_instr):\n",
    "    for i in range(len(r_instr)):\n",
    "        s = 'Instr[{}] = '.format(i) + R_convert(r_instr[i].split(' ')) + ';'\n",
    "        print(s)"
   ]
  },
  {
   "cell_type": "code",
   "execution_count": 123,
   "metadata": {},
   "outputs": [
    {
     "name": "stdout",
     "output_type": "stream",
     "text": [
      "Instr[0] = {6'd54,5'd9,5'd10,5'd8,5'd0,6'd21};\n",
      "Instr[1] = {6'd54,5'd9,5'd10,5'd9,5'd0,6'd22};\n",
      "Instr[2] = {6'd54,5'd13,5'd11,5'd11,5'd0,6'd23};\n",
      "Instr[3] = {6'd54,5'd11,5'd13,5'd13,5'd0,6'd24};\n",
      "Instr[4] = {6'd54,5'd0,5'd12,5'd11,5'd2,6'd25};\n",
      "Instr[5] = {6'd54,5'd0,5'd15,5'd13,5'd5,6'd26};\n"
     ]
    }
   ],
   "source": [
    "R_instrs(r_instr)"
   ]
  },
  {
   "cell_type": "code",
   "execution_count": 75,
   "metadata": {},
   "outputs": [],
   "source": [
    "def I_convert(instr):\n",
    "    op = instr[0]\n",
    "    if op in ['sw','lw']:\n",
    "        rs = instr[3]\n",
    "        im = instr[2]\n",
    "        rt = instr[1]\n",
    "    elif op in ['addi','subi']:\n",
    "        rt = instr[1]\n",
    "        rs = instr[2]\n",
    "        im = instr[3]\n",
    "    elif op == 'beq':\n",
    "        rs = instr[1]\n",
    "        rt = instr[2]\n",
    "        im = instr[3]\n",
    "    \n",
    "    out = '{'\n",
    "    \n",
    "    #op\n",
    "    if op == 'sw':\n",
    "        out += \"6'd39,\"\n",
    "    elif op == 'lw':\n",
    "        out += \"6'd40,\"\n",
    "    elif op == 'addi':\n",
    "        out += \"6'd41,\"\n",
    "    elif op == 'subi':\n",
    "        out += \"6'd42,\"\n",
    "    elif op == 'beq':\n",
    "        out += \"6'd31,\"\n",
    "    \n",
    "    #rs\n",
    "    if op in ['sw','lw','addi','subi','beq']:\n",
    "        out += \"5'd{},\".format(reg_a[rs])\n",
    "    \n",
    "    #rt\n",
    "    if op in ['sw','lw','addi','subi','beq']:\n",
    "        out += \"5'd{},\".format(reg_a[rt])\n",
    "        \n",
    "    #im\n",
    "    out += \"16'd{}\".format(im)\n",
    "    \n",
    "    out += \"}\"\n",
    "    \n",
    "    return out"
   ]
  },
  {
   "cell_type": "code",
   "execution_count": 76,
   "metadata": {},
   "outputs": [],
   "source": [
    "i_instr = [\n",
    "    'sw t0 2 t3',\n",
    "    'lw s3 2 t3',\n",
    "    'lw s4 3 t3',\n",
    "    'sw t0 2 t2',\n",
    "    'sw s4 4 t1',\n",
    "    'addi s5 s4 40',\n",
    "    'addi s6 s5 22',\n",
    "    'subi s3 s6 8',\n",
    "    'subi s7 s0 2',\n",
    "    'beq t4 t6 4',\n",
    "    'beq t4 t8 4',\n",
    "    'beq s3 s5 4',\n",
    "    'beq t8 t9 1'\n",
    "]"
   ]
  },
  {
   "cell_type": "code",
   "execution_count": 128,
   "metadata": {},
   "outputs": [],
   "source": [
    "def I_instrs(i_instr):\n",
    "    for i in range(len(i_instr)):\n",
    "        print('Instr[{}] = '.format(i) + I_convert(i_instr[i].split(' ')) + ';')"
   ]
  },
  {
   "cell_type": "code",
   "execution_count": 129,
   "metadata": {},
   "outputs": [
    {
     "name": "stdout",
     "output_type": "stream",
     "text": [
      "Instr[0] = {6'd39,5'd11,5'd8,16'd2};\n",
      "Instr[1] = {6'd40,5'd11,5'd19,16'd2};\n",
      "Instr[2] = {6'd40,5'd11,5'd20,16'd3};\n",
      "Instr[3] = {6'd39,5'd10,5'd8,16'd2};\n",
      "Instr[4] = {6'd39,5'd9,5'd20,16'd4};\n",
      "Instr[5] = {6'd41,5'd20,5'd21,16'd40};\n",
      "Instr[6] = {6'd41,5'd21,5'd22,16'd22};\n",
      "Instr[7] = {6'd42,5'd22,5'd19,16'd8};\n",
      "Instr[8] = {6'd42,5'd16,5'd23,16'd2};\n",
      "Instr[9] = {6'd31,5'd12,5'd14,16'd4};\n",
      "Instr[10] = {6'd31,5'd12,5'd24,16'd4};\n",
      "Instr[11] = {6'd31,5'd19,5'd21,16'd4};\n",
      "Instr[12] = {6'd31,5'd24,5'd25,16'd1};\n"
     ]
    }
   ],
   "source": [
    "I_instrs(i_instr)"
   ]
  },
  {
   "cell_type": "code",
   "execution_count": 132,
   "metadata": {},
   "outputs": [],
   "source": [
    "def J_convert(instr):\n",
    "    op = instr[0]\n",
    "    im = instr[1]\n",
    "    out = \"{\"\n",
    "    if op == 'j':\n",
    "        out += \"6'd32,\"\n",
    "        out += \"26'd{}\".format(im)\n",
    "    out += \"}\"\n",
    "    return out"
   ]
  },
  {
   "cell_type": "code",
   "execution_count": 133,
   "metadata": {},
   "outputs": [],
   "source": [
    "j_instr = [\n",
    "    'j 125',\n",
    "    'j 18'\n",
    "]"
   ]
  },
  {
   "cell_type": "code",
   "execution_count": 146,
   "metadata": {},
   "outputs": [],
   "source": [
    "def J_instrs(j_instr):\n",
    "    for i in range(len(j_instr)):\n",
    "        print('Instr[{}] = '.format(i) + J_convert(j_instr[i].split(' ')) + ';')\n",
    "    "
   ]
  },
  {
   "cell_type": "code",
   "execution_count": 147,
   "metadata": {},
   "outputs": [
    {
     "name": "stdout",
     "output_type": "stream",
     "text": [
      "Instr[0] = {6'd32,26'd125};\n",
      "Instr[1] = {6'd32,26'd18};\n"
     ]
    }
   ],
   "source": [
    "J_instrs(j_instr)"
   ]
  },
  {
   "cell_type": "code",
   "execution_count": 152,
   "metadata": {},
   "outputs": [
    {
     "name": "stdout",
     "output_type": "stream",
     "text": [
      "Instr[0] = {6'd41,5'd0,5'd16,16'd666};\n",
      "Instr[1] = {6'd41,5'd0,5'd17,16'd777};\n",
      "Instr[2] = {6'd41,5'd16,5'd16,16'd111};\n",
      "Instr[3] = {6'd42,5'd17,5'd17,16'd111};\n"
     ]
    }
   ],
   "source": [
    "a = ['addi s0 zero 666',\n",
    "'addi s1 zero 777',\n",
    "'addi s0 s0 111',\n",
    "'subi s1 s1 111'\n",
    "]\n",
    "I_instrs(a)"
   ]
  },
  {
   "cell_type": "code",
   "execution_count": 151,
   "metadata": {},
   "outputs": [
    {
     "name": "stdout",
     "output_type": "stream",
     "text": [
      "Instr[0] = {6'd54,5'd18,5'd17,5'd8,5'd0,6'd22};\n",
      "Instr[1] = {6'd54,5'd0,5'd8,5'd8,5'd31,6'd25};\n"
     ]
    }
   ],
   "source": [
    "a = [\n",
    "    'sub t0 s2 s1',\n",
    "    'srl t0 t0 31'\n",
    "]\n",
    "R_instrs(a)"
   ]
  },
  {
   "cell_type": "code",
   "execution_count": 153,
   "metadata": {},
   "outputs": [
    {
     "name": "stdout",
     "output_type": "stream",
     "text": [
      "Instr[0] = {6'd41,5'd0,5'd9,16'd1};\n",
      "Instr[1] = {6'd31,5'd8,5'd9,16'd1};\n",
      "Instr[2] = {6'd41,5'd0,5'd18,16'd555};\n",
      "Instr[3] = {6'd41,5'd0,5'd18,16'd888};\n",
      "Instr[4] = {6'd41,5'd0,5'd8,16'd0};\n",
      "Instr[5] = {6'd39,5'd8,5'd16,16'd0};\n",
      "Instr[6] = {6'd39,5'd8,5'd17,16'd4};\n",
      "Instr[7] = {6'd39,5'd8,5'd18,16'd8};\n"
     ]
    }
   ],
   "source": [
    "a = [\n",
    "'addi t1 zero 1',\n",
    "'beq t0 t1 1',\n",
    "'addi s2 zero 555',\n",
    "'addi s2 zero 888',\n",
    "'addi t0 zero 0',\n",
    "'sw s0 0 t0',\n",
    "'sw s1 4 t0',\n",
    "'sw s2 8 t0'\n",
    "]\n",
    "I_instrs(a)"
   ]
  },
  {
   "cell_type": "code",
   "execution_count": null,
   "metadata": {},
   "outputs": [],
   "source": []
  }
 ],
 "metadata": {
  "kernelspec": {
   "display_name": "Python 3",
   "language": "python",
   "name": "python3"
  },
  "language_info": {
   "codemirror_mode": {
    "name": "ipython",
    "version": 3
   },
   "file_extension": ".py",
   "mimetype": "text/x-python",
   "name": "python",
   "nbconvert_exporter": "python",
   "pygments_lexer": "ipython3",
   "version": "3.6.7"
  }
 },
 "nbformat": 4,
 "nbformat_minor": 2
}
